{
 "cells": [
  {
   "cell_type": "markdown",
   "metadata": {},
   "source": [
    "# Web Mining and Applied NLP (44-620)\n",
    "\n",
    "## Requests, JSON, and NLP\n",
    "\n",
    "### Student Name: Loni Wood\n",
    "### Github link is:  https://github.com/lwood7983/Module4Assignment.git\n",
    "\n",
    "\n",
    "Perform the tasks described in the Markdown cells below.  When you have completed the assignment make sure your code cells have all been run (and have output beneath them) and ensure you have committed and pushed ALL of your changes to your assignment repository.\n",
    "\n",
    "Make sure you have [installed spaCy and its pipeline](https://spacy.io/usage#quickstart) and [spaCyTextBlob](https://spacy.io/universe/project/spacy-textblob)\n",
    "\n",
    "Every question that requires you to write code will have a code cell underneath it; you may either write your entire solution in that cell or write it in a python file (`.py`), then import and run the appropriate code to answer the question.\n",
    "\n",
    "This assignment requires that you write additional files (either JSON or pickle files); make sure to submit those files in your repository as well."
   ]
  },
  {
   "cell_type": "markdown",
   "metadata": {},
   "source": [
    "1. The following code accesses the [lyrics.ovh](https://lyricsovh.docs.apiary.io/#reference/0/lyrics-of-a-song/search) public api, searches for the lyrics of a song, and stores it in a dictionary object.  Write the resulting json to a file (either a JSON file or a pickle file; you choose). You will read in the contents of this file for future questions so we do not need to frequently access the API."
   ]
  },
  {
   "cell_type": "markdown",
   "metadata": {
    "tags": []
   },
   "source": [
    "### Question 1"
   ]
  },
  {
   "cell_type": "code",
   "execution_count": 1,
   "metadata": {},
   "outputs": [
    {
     "data": {
      "text/html": [
       "<div>\n",
       "<style scoped>\n",
       "    .dataframe tbody tr th:only-of-type {\n",
       "        vertical-align: middle;\n",
       "    }\n",
       "\n",
       "    .dataframe tbody tr th {\n",
       "        vertical-align: top;\n",
       "    }\n",
       "\n",
       "    .dataframe thead th {\n",
       "        text-align: right;\n",
       "    }\n",
       "</style>\n",
       "<table border=\"1\" class=\"dataframe\">\n",
       "  <thead>\n",
       "    <tr style=\"text-align: right;\">\n",
       "      <th></th>\n",
       "      <th>Unnamed: 0</th>\n",
       "      <th>Artist</th>\n",
       "      <th>Title</th>\n",
       "      <th>Album</th>\n",
       "      <th>Year</th>\n",
       "      <th>Date</th>\n",
       "      <th>Lyric</th>\n",
       "    </tr>\n",
       "  </thead>\n",
       "  <tbody>\n",
       "    <tr>\n",
       "      <th>0</th>\n",
       "      <td>0</td>\n",
       "      <td>Ed Sheeran</td>\n",
       "      <td>Shape of You</td>\n",
       "      <td>÷ (Divide)</td>\n",
       "      <td>2017.0</td>\n",
       "      <td>2017-01-06</td>\n",
       "      <td>the club isn't the best place to find a lover ...</td>\n",
       "    </tr>\n",
       "    <tr>\n",
       "      <th>1</th>\n",
       "      <td>1</td>\n",
       "      <td>Ed Sheeran</td>\n",
       "      <td>Perfect</td>\n",
       "      <td>÷ (Divide)</td>\n",
       "      <td>2017.0</td>\n",
       "      <td>2017-03-03</td>\n",
       "      <td>i found a love for me oh darling just dive rig...</td>\n",
       "    </tr>\n",
       "    <tr>\n",
       "      <th>2</th>\n",
       "      <td>2</td>\n",
       "      <td>Ed Sheeran</td>\n",
       "      <td>Castle on the Hill</td>\n",
       "      <td>÷ (Divide)</td>\n",
       "      <td>2017.0</td>\n",
       "      <td>2017-01-06</td>\n",
       "      <td>when i was six years old i broke my leg i was ...</td>\n",
       "    </tr>\n",
       "    <tr>\n",
       "      <th>3</th>\n",
       "      <td>3</td>\n",
       "      <td>Ed Sheeran</td>\n",
       "      <td>Happier</td>\n",
       "      <td>÷ (Divide)</td>\n",
       "      <td>2017.0</td>\n",
       "      <td>2017-03-03</td>\n",
       "      <td>walking down 9th and park i saw you in another...</td>\n",
       "    </tr>\n",
       "    <tr>\n",
       "      <th>4</th>\n",
       "      <td>4</td>\n",
       "      <td>Ed Sheeran</td>\n",
       "      <td>Supermarket Flowers</td>\n",
       "      <td>÷ (Divide)</td>\n",
       "      <td>2017.0</td>\n",
       "      <td>2017-03-03</td>\n",
       "      <td>i took the supermarket flowers from the window...</td>\n",
       "    </tr>\n",
       "    <tr>\n",
       "      <th>...</th>\n",
       "      <td>...</td>\n",
       "      <td>...</td>\n",
       "      <td>...</td>\n",
       "      <td>...</td>\n",
       "      <td>...</td>\n",
       "      <td>...</td>\n",
       "      <td>...</td>\n",
       "    </tr>\n",
       "    <tr>\n",
       "      <th>291</th>\n",
       "      <td>291</td>\n",
       "      <td>Ed Sheeran</td>\n",
       "      <td>Broken</td>\n",
       "      <td>Spinning Man</td>\n",
       "      <td>NaN</td>\n",
       "      <td>NaT</td>\n",
       "      <td>lyrics for this song have yet to be released p...</td>\n",
       "    </tr>\n",
       "    <tr>\n",
       "      <th>292</th>\n",
       "      <td>292</td>\n",
       "      <td>Ed Sheeran</td>\n",
       "      <td>Sleep</td>\n",
       "      <td>Spinning Man</td>\n",
       "      <td>NaN</td>\n",
       "      <td>NaT</td>\n",
       "      <td>lyrics for this song have yet to be released p...</td>\n",
       "    </tr>\n",
       "    <tr>\n",
       "      <th>293</th>\n",
       "      <td>293</td>\n",
       "      <td>Ed Sheeran</td>\n",
       "      <td>This Year’s Love</td>\n",
       "      <td>BBC Radio 2 - The Piano Room</td>\n",
       "      <td>NaN</td>\n",
       "      <td>NaT</td>\n",
       "      <td>this year's love had better last heaven knows ...</td>\n",
       "    </tr>\n",
       "    <tr>\n",
       "      <th>294</th>\n",
       "      <td>294</td>\n",
       "      <td>Ed Sheeran</td>\n",
       "      <td>Shape of you -In love with the shape of you</td>\n",
       "      <td>None</td>\n",
       "      <td>NaN</td>\n",
       "      <td>NaT</td>\n",
       "      <td>the club isn't the best place to find a lover ...</td>\n",
       "    </tr>\n",
       "    <tr>\n",
       "      <th>295</th>\n",
       "      <td>295</td>\n",
       "      <td>Ed Sheeran</td>\n",
       "      <td>Give Me That</td>\n",
       "      <td>None</td>\n",
       "      <td>NaN</td>\n",
       "      <td>NaT</td>\n",
       "      <td>on a late night we were outside of a club near...</td>\n",
       "    </tr>\n",
       "  </tbody>\n",
       "</table>\n",
       "<p>296 rows × 7 columns</p>\n",
       "</div>"
      ],
      "text/plain": [
       "     Unnamed: 0      Artist                                        Title  \\\n",
       "0             0  Ed Sheeran                                 Shape of You   \n",
       "1             1  Ed Sheeran                                      Perfect   \n",
       "2             2  Ed Sheeran                           Castle on the Hill   \n",
       "3             3  Ed Sheeran                                      Happier   \n",
       "4             4  Ed Sheeran                          Supermarket Flowers   \n",
       "..          ...         ...                                          ...   \n",
       "291         291  Ed Sheeran                                       Broken   \n",
       "292         292  Ed Sheeran                                        Sleep   \n",
       "293         293  Ed Sheeran                             This Year’s Love   \n",
       "294         294  Ed Sheeran  Shape of you -In love with the shape of you   \n",
       "295         295  Ed Sheeran                                 Give Me That   \n",
       "\n",
       "                            Album    Year       Date  \\\n",
       "0                      ÷ (Divide)  2017.0 2017-01-06   \n",
       "1                      ÷ (Divide)  2017.0 2017-03-03   \n",
       "2                      ÷ (Divide)  2017.0 2017-01-06   \n",
       "3                      ÷ (Divide)  2017.0 2017-03-03   \n",
       "4                      ÷ (Divide)  2017.0 2017-03-03   \n",
       "..                            ...     ...        ...   \n",
       "291                  Spinning Man     NaN        NaT   \n",
       "292                  Spinning Man     NaN        NaT   \n",
       "293  BBC Radio 2 - The Piano Room     NaN        NaT   \n",
       "294                          None     NaN        NaT   \n",
       "295                          None     NaN        NaT   \n",
       "\n",
       "                                                 Lyric  \n",
       "0    the club isn't the best place to find a lover ...  \n",
       "1    i found a love for me oh darling just dive rig...  \n",
       "2    when i was six years old i broke my leg i was ...  \n",
       "3    walking down 9th and park i saw you in another...  \n",
       "4    i took the supermarket flowers from the window...  \n",
       "..                                                 ...  \n",
       "291  lyrics for this song have yet to be released p...  \n",
       "292  lyrics for this song have yet to be released p...  \n",
       "293  this year's love had better last heaven knows ...  \n",
       "294  the club isn't the best place to find a lover ...  \n",
       "295  on a late night we were outside of a club near...  \n",
       "\n",
       "[296 rows x 7 columns]"
      ]
     },
     "execution_count": 1,
     "metadata": {},
     "output_type": "execute_result"
    }
   ],
   "source": [
    "import pandas as pd\n",
    "import json\n",
    "\n",
    "csv_file = r\"C:\\Users\\loniw\\OneDrive\\Documents\\School\\WebMining_NLP\\Module4\\Module4Assignment\\LyricsDownload\\csv\\EdSheeran.csv\"\n",
    "EdSheeran_df = pd.read_csv(csv_file)\n",
    "\n",
    "\n",
    "json_output = r\"C:\\Users\\loniw\\OneDrive\\Documents\\School\\WebMining_NLP\\Module4\\Module4Assignment\\EdSheeran.json\"\n",
    "\n",
    "pd.read_json(json_output)\n",
    "\n"
   ]
  },
  {
   "cell_type": "markdown",
   "metadata": {},
   "source": [
    "2. Read in the contents of your file.  Print the lyrics of the song (not the entire dictionary!) and use spaCyTextBlob to perform sentiment analysis on the lyrics.  Print the polarity score of the sentiment analysis.  Given that the range of the polarity score is `[-1.0,1.0]` which corresponds to how positive or negative the text in question is, do you think the lyrics have a more positive or negative connotaion?  Answer this question in a comment in your code cell."
   ]
  },
  {
   "cell_type": "markdown",
   "metadata": {},
   "source": [
    "### Question 2:"
   ]
  },
  {
   "cell_type": "code",
   "execution_count": 2,
   "metadata": {},
   "outputs": [
    {
     "name": "stdout",
     "output_type": "stream",
     "text": [
      "0    the club isn't the best place to find a lover so the bar is where i go me and my friends at the table doing shots drinking fast and then we talk slow and you come over and start up a conversation with just me and trust me i'll give it a chance now take my hand stop put van the man on the jukebox and then we start to dance and now i'm singing like  pre girl you know i want your love your love was handmade for somebody like me come on now follow my lead i may be crazy don't mind me say boy let's not talk too much grab on my waist and put that body on me come on now follow my lead come come on now follow my lead   i'm in love with the shape of you we push and pull like a magnet do although my heart is falling too i'm in love with your body and last night you were in my room and now my bed sheets smell like you every day discovering something brand new i'm in love with your body ohiohiohiohi i'm in love with your body ohiohiohiohi i'm in love with your body ohiohiohiohi i'm in love with your body every day discovering something brand new i'm in love with the shape of you   one week in we let the story begin we're going out on our first date you and me are thrifty so go all you can eat fill up your bag and i fill up a plate we talk for hours and hours about the sweet and the sour and how your family is doing okay leave and get in a taxi then kiss in the backseat tell the driver make the radio play and i'm singing like  pre girl you know i want your love your love was handmade for somebody like me come on now follow my lead i may be crazy don't mind me say boy let's not talk too much grab on my waist and put that body on me come on now follow my lead come come on now follow my lead   i'm in love with the shape of you we push and pull like a magnet do although my heart is falling too i'm in love with your body and last night you were in my room and now my bed sheets smell like you every day discovering something brand new i'm in love with your body ohiohiohiohi i'm in ...\n",
      "Name: Lyric, dtype: object\n",
      "Polarity score for Shape of You is: 0.28093841642228745\n"
     ]
    }
   ],
   "source": [
    "import pandas as pd\n",
    "import json\n",
    "import spacy\n",
    "from spacytextblob.spacytextblob import SpacyTextBlob\n",
    "\n",
    "pd.options.display.max_colwidth = 2000\n",
    "\n",
    "Ed = open (r\"C:\\Users\\loniw\\OneDrive\\Documents\\School\\WebMining_NLP\\Module4\\Module4Assignment\\EdSheeran.json\")\n",
    "data = json.load(Ed)\n",
    "titles = [Ed['Title'] for Ed in data]\n",
    "lyrics = [Ed['Lyric'] for Ed in data]\n",
    "df = pd.DataFrame()\n",
    "df['Title'] = titles\n",
    "df['Lyric'] = lyrics\n",
    "Sheeran= str(df[df['Title'] == 'Shape of You']['Lyric'])\n",
    "print(Sheeran)\n",
    "\n",
    "\n",
    "nlp = spacy.load('en_core_web_sm')\n",
    "nlp.add_pipe('spacytextblob')\n",
    "text = (Sheeran)\n",
    "doc = nlp(text)\n",
    "\n",
    "\n",
    "print('Polarity score for Shape of You is:', doc._.blob.polarity)\n",
    "\n",
    "### Based on the polarity score I would say the lyrics have a positive connotation.  One thing I found interesting is that one the dataframe was\n",
    "### adjusted in height, then the score changed.  It was around .6 before the size adjustment.  Now it is .28 at a column width of 2000."
   ]
  },
  {
   "cell_type": "markdown",
   "metadata": {},
   "source": [
    "3. Write a function that takes an artist, song, and filename, accesses the lyrics.ovh api to get the song lyrics, and writes the results to the specified filename.  Test this function by getting the lyrics to any four songs of your choice and storing them in different files."
   ]
  },
  {
   "cell_type": "markdown",
   "metadata": {},
   "source": [
    "### Question 3:"
   ]
  },
  {
   "cell_type": "markdown",
   "metadata": {},
   "source": [
    "### Loading lyrics from Questions 1 & 2.  Ed Sheeran's song titled Shape of You."
   ]
  },
  {
   "cell_type": "code",
   "execution_count": 3,
   "metadata": {},
   "outputs": [
    {
     "name": "stdout",
     "output_type": "stream",
     "text": [
      "[\"the club isn't the best place to find a lover so the bar is where i go me and my friends at the table doing shots drinking fast and then we talk slow and you come over and start up a conversation with just me and trust me i'll give it a chance now take my hand stop put van the man on the jukebox and then we start to dance and now i'm singing like  pre girl you know i want your love your love was handmade for somebody like me come on now follow my lead i may be crazy don't mind me say boy let's not talk too much grab on my waist and put that body on me come on now follow my lead come come on now follow my lead   i'm in love with the shape of you we push and pull like a magnet do although my heart is falling too i'm in love with your body and last night you were in my room and now my bed sheets smell like you every day discovering something brand new i'm in love with your body ohiohiohiohi i'm in love with your body ohiohiohiohi i'm in love with your body ohiohiohiohi i'm in love with your body every day discovering something brand new i'm in love with the shape of you   one week in we let the story begin we're going out on our first date you and me are thrifty so go all you can eat fill up your bag and i fill up a plate we talk for hours and hours about the sweet and the sour and how your family is doing okay leave and get in a taxi then kiss in the backseat tell the driver make the radio play and i'm singing like  pre girl you know i want your love your love was handmade for somebody like me come on now follow my lead i may be crazy don't mind me say boy let's not talk too much grab on my waist and put that body on me come on now follow my lead come come on now follow my lead   i'm in love with the shape of you we push and pull like a magnet do although my heart is falling too i'm in love with your body and last night you were in my room and now my bed sheets smell like you every day discovering something brand new i'm in love with your body ohiohiohiohi i'm in love with your body ohiohiohiohi i'm in love with your body ohiohiohiohi i'm in love with your body every day discovering something brand new i'm in love with the shape of you   come on be my baby come on come on be my baby come on come on be my baby come on come on be my baby come on come on be my baby come on come on be my baby come on come on be my baby come on come on be my baby come on   i'm in love with the shape of you we push and pull like a magnet do although my heart is falling too i'm in love with your body last night you were in my room and now my bed sheets smell like you every day discovering something brand new i'm in love with your body come on be my baby come on come on be my baby come on i'm in love with your body come on be my baby come on come on be my baby come on i'm in love with your body come on be my baby come on come on be my baby come on i'm in love with your body every day discovering something brand new i'm in love with the shape of you\"]\n"
     ]
    }
   ],
   "source": [
    "Ed = open (r\"C:\\Users\\loniw\\OneDrive\\Documents\\School\\WebMining_NLP\\Module4\\Module4Assignment\\EdSheeran.json\")\n",
    "data = json.load(Ed)\n",
    "artist = [Ed['Artist'] for Ed in data]\n",
    "titles = [Ed['Title'] for Ed in data]\n",
    "lyrics = [Ed['Lyric'] for Ed in data]\n",
    "df = pd.DataFrame()\n",
    "df['Artist'] = artist\n",
    "df['Title'] = titles\n",
    "df['Lyric'] = lyrics\n",
    "\n",
    "\n",
    "ShapeOfYou = df[df[df['Artist'] == 'Ed Sheeran']['Title'] == 'Shape of You']['Lyric']\n",
    "     \n",
    "with open(r\"C:\\Users\\loniw\\OneDrive\\Documents\\School\\WebMining_NLP\\Module4\\Module4Assignment\\ShapeOfYou.json\", \"w\") as song1:\n",
    "    song1.write(json.dumps(ShapeOfYou.to_json(orient=\"records\"), indent=4)) \n",
    "      \n",
    "with open(r\"C:\\Users\\loniw\\OneDrive\\Documents\\School\\WebMining_NLP\\Module4\\Module4Assignment\\ShapeOfYou.json\", \"r\") as song1:\n",
    "     EdSheeran = json.load(song1)\n",
    "\n",
    "print(EdSheeran)\n",
    "\n"
   ]
  },
  {
   "cell_type": "markdown",
   "metadata": {
    "tags": []
   },
   "source": [
    "### Song 1 of 3: Loading Lyrics for Taylor Swift's song titled Lover"
   ]
  },
  {
   "cell_type": "code",
   "execution_count": 4,
   "metadata": {},
   "outputs": [
    {
     "name": "stdout",
     "output_type": "stream",
     "text": [
      "[\"we could leave the christmas lights up 'til january and this is our place we make the rules and there's a dazzling haze a mysterious way about you dear have i known you 0 seconds or 0 years   can i go where you go can we always be this close forever and ever ah take me out and take me home you're my my my my lover   we could let our friends crash in the living room this is our place we make the call and i'm highly suspicious that everyone who sees you wants you i've loved you three summers now honey but i want 'em all   can i go where you go can we always be this close forever and ever ah take me out and take me home forever and ever you're my my my my lover   ladies and gentlemen will you please stand with every  string scar on my hand i take this magnetic force of a man to be my lover my heart's been borrowed and yours has been blue all's well that ends well to end up with you swear to be overdramatic and true to my lover and you'll save all your dirtiest jokes for me and at every table i'll save you a seat lover   can i go where you go can we always be this close forever and ever ah take me out and take me home forever and ever you're my my my my oh you're my my my my darling you're my my my my lover\"]\n"
     ]
    }
   ],
   "source": [
    "csv_file = r\"C:\\Users\\loniw\\OneDrive\\Documents\\School\\WebMining_NLP\\Module4\\Module4Assignment\\LyricsDownload\\csv\\TaylorSwift.csv\"\n",
    "TaylorSwift_df = pd.read_csv(csv_file)\n",
    "\n",
    "json_output = r\"C:\\Users\\loniw\\OneDrive\\Documents\\School\\WebMining_NLP\\Module4\\Module4Assignment\\TaylorSwift.json\"\n",
    "f = TaylorSwift_df.to_json(json_output, indent=4, orient='records')\n",
    "pd.read_json(json_output)\n",
    "\n",
    "Taylor = open (r\"C:\\Users\\loniw\\OneDrive\\Documents\\School\\WebMining_NLP\\Module4\\Module4Assignment\\TaylorSwift.json\")\n",
    "data = json.load(Taylor)\n",
    "artist = [Taylor['Artist'] for Taylor in data]\n",
    "titles = [Taylor['Title'] for Taylor in data]\n",
    "lyrics = [Taylor['Lyric'] for Taylor in data]\n",
    "df = pd.DataFrame()\n",
    "df['Artist'] = artist\n",
    "df['Title'] = titles\n",
    "df['Lyric'] = lyrics\n",
    "\n",
    "Lover = df[df[df['Artist'] == 'Taylor Swift']['Title'] == 'Lover']['Lyric']\n",
    "     \n",
    "with open(r\"C:\\Users\\loniw\\OneDrive\\Documents\\School\\WebMining_NLP\\Module4\\Module4Assignment\\Lover.json\", \"w\") as song2:\n",
    "    song2.write(json.dumps(Lover.to_json(orient=\"records\"), indent=4)) \n",
    "      \n",
    "with open(r\"C:\\Users\\loniw\\OneDrive\\Documents\\School\\WebMining_NLP\\Module4\\Module4Assignment\\Lover.json\", \"r\") as song2:\n",
    "     TaylorSwift = json.load(song2)\n",
    "\n",
    "print(TaylorSwift)\n"
   ]
  },
  {
   "cell_type": "markdown",
   "metadata": {
    "tags": []
   },
   "source": [
    "### Song 2 of 3: Loading Lyrics for Katy Perry's song Firework"
   ]
  },
  {
   "cell_type": "code",
   "execution_count": 5,
   "metadata": {},
   "outputs": [
    {
     "name": "stdout",
     "output_type": "stream",
     "text": [
      "[\"do you ever feel like a plastic bag drifting through the wind wanting to start again do you ever feel feel so paperthin like a house of cards one blow from caving in do you ever feel already buried deep six feet under screams but no one seems to hear a thing do you know that there's still a chance for you 'cause there's a spark in you  pre you just gotta ignite the light and let it shine just own the night like the fourth of july   'cause baby you're a firework come on show 'em what you're worth make 'em go aah aah aah as you shoot across the sky baby you're a firework come on let your colors burst make 'em go aah aah aah you're gonna leave them all in awe awe awe   you don't have to feel like a waste of space you're original cannot be replaced if you only knew what the future holds after a hurricane comes a rainbow maybe a reason why all the doors are closed so you could open one that leads you to the perfect road like a lightning bolt your heart will glow and when it's time you'll know  pre you just gotta ignite the light and let it shine just own the night like the fourth of july   'cause baby you're a firework come on show 'em what you're worth make 'em go aah aah aah as you shoot across the sky baby you're a firework come on let your colors burst make 'em go aah aah aah you're gonna leave them all in awe awe awe   boom boom boom even brighter than the moon moon moon it's always been inside of you you you and now it's time to let it through   'cause baby you're a firework come on show 'em what you're worth make 'em go aah aah aah as you shoot across the sky baby you're a firework come on let your colors burst make 'em go aah aah aah you're gonna leave them all in awe awe awe   boom boom boom even brighter than the moon moon moon boom boom boom even brighter than the moon moon moon\"]\n"
     ]
    }
   ],
   "source": [
    "csv_file = r\"C:\\Users\\loniw\\OneDrive\\Documents\\School\\WebMining_NLP\\Module4\\Module4Assignment\\LyricsDownload\\csv\\KatyPerry.csv\"\n",
    "KatyPerry_df = pd.read_csv(csv_file)\n",
    "\n",
    "json_output = r\"C:\\Users\\loniw\\OneDrive\\Documents\\School\\WebMining_NLP\\Module4\\Module4Assignment\\KatyPerry.json\"\n",
    "f = KatyPerry_df.to_json(json_output, indent=4, orient='records')\n",
    "pd.read_json(json_output)\n",
    "\n",
    "Katy = open (r\"C:\\Users\\loniw\\OneDrive\\Documents\\School\\WebMining_NLP\\Module4\\Module4Assignment\\KatyPerry.json\")\n",
    "data = json.load(Katy)\n",
    "artist = [Katy['Artist'] for Katy in data]\n",
    "titles = [Katy['Title'] for Katy in data]\n",
    "lyrics = [Katy['Lyric'] for Katy in data]\n",
    "df = pd.DataFrame()\n",
    "df['Artist'] = artist\n",
    "df['Title'] = titles\n",
    "df['Lyric'] = lyrics\n",
    "\n",
    "Firework = df[df[df['Artist'] == 'Katy Perry']['Title'] == 'Firework']['Lyric']\n",
    "     \n",
    "with open(r\"C:\\Users\\loniw\\OneDrive\\Documents\\School\\WebMining_NLP\\Module4\\Module4Assignment\\Firework.json\", \"w\") as song3:\n",
    "    song3.write(json.dumps(Firework.to_json(orient=\"records\"), indent=4)) \n",
    "      \n",
    "with open(r\"C:\\Users\\loniw\\OneDrive\\Documents\\School\\WebMining_NLP\\Module4\\Module4Assignment\\Firework.json\", \"r\") as song3:\n",
    "     KatyPerry = json.load(song3)\n",
    "\n",
    "\n",
    "print(KatyPerry)"
   ]
  },
  {
   "cell_type": "markdown",
   "metadata": {
    "tags": []
   },
   "source": [
    "### Song 3 of 3: Loading Lyrics for ColdPlay's song Everybody Hurts"
   ]
  },
  {
   "cell_type": "code",
   "execution_count": 6,
   "metadata": {},
   "outputs": [
    {
     "name": "stdout",
     "output_type": "stream",
     "text": [
      "[\"when your day is long and the night the night is yours alone when you're sure you've had enough of this life well hang on  don't let yourself go 'cause everybody cries and everybody hurts sometimes  sometimes everything is wrong now it's time to sing along when your day is night alone hold on hold on if you feel like letting go hold on if you think you've had too much of this life well hang on  everybody hurts take comfort in your friends everybody hurts don't throw your hand oh no  don't throw your hand if you feel like you're alone no no no you are not alone  if you're on your own in this life the days and nights are long when you think you've had too much of this life to hang on  well everybody hurts sometimes everybody cries everybody hurts sometimes and everybody hurts sometimes  so hold on hold on hold on hold on hold on hold on hold on hold on everybody hurts\"]\n"
     ]
    }
   ],
   "source": [
    "csv_file = r\"C:\\Users\\loniw\\OneDrive\\Documents\\School\\WebMining_NLP\\Module4\\Module4Assignment\\LyricsDownload\\csv\\ColdPlay.csv\"\n",
    "ColdPlay_df = pd.read_csv(csv_file)\n",
    "\n",
    "json_output = r\"C:\\Users\\loniw\\OneDrive\\Documents\\School\\WebMining_NLP\\Module4\\Module4Assignment\\ColdPlay.json\"\n",
    "f = ColdPlay_df.to_json(json_output, indent=4, orient='records')\n",
    "pd.read_json(json_output)\n",
    "\n",
    "Cold = open (r\"C:\\Users\\loniw\\OneDrive\\Documents\\School\\WebMining_NLP\\Module4\\Module4Assignment\\ColdPlay.json\")\n",
    "data = json.load(Cold)\n",
    "artist = [Cold['Artist'] for Cold in data]\n",
    "titles = [Cold['Title'] for Cold in data]\n",
    "lyrics = [Cold['Lyric'] for Cold in data]\n",
    "df = pd.DataFrame()\n",
    "df['Artist'] = artist\n",
    "df['Title'] = titles\n",
    "df['Lyric'] = lyrics\n",
    "\n",
    "EverybodyHurts = df[df[df['Artist'] == 'Coldplay']['Title'] == 'Everybody Hurts']['Lyric']\n",
    "     \n",
    "with open(r\"C:\\Users\\loniw\\OneDrive\\Documents\\School\\WebMining_NLP\\Module4\\Module4Assignment\\EverybodyHurts.json\", \"w\") as song4:\n",
    "    song4.write(json.dumps(EverybodyHurts.to_json(orient=\"records\"), indent=4)) \n",
    "      \n",
    "with open(r\"C:\\Users\\loniw\\OneDrive\\Documents\\School\\WebMining_NLP\\Module4\\Module4Assignment\\EverybodyHurts.json\", \"r\") as song4:\n",
    "     ColdPlay = json.load(song4)\n",
    "\n",
    "print(ColdPlay)"
   ]
  },
  {
   "cell_type": "markdown",
   "metadata": {},
   "source": [
    "4. Write a function that takes the name of a file that contains song lyrics, loads the file, performs sentiment analysis, and returns the polarity score.  Use this function to print the polarity scores (with the name of the song) of the three files you created in question 3.  Does the reported polarity match your understanding of the song's lyrics? Why or why not do you think that might be?  Answer the questions in either a comment in the code cell or a markdown cell under the code cell."
   ]
  },
  {
   "cell_type": "markdown",
   "metadata": {},
   "source": [
    "### Question 4:"
   ]
  },
  {
   "cell_type": "code",
   "execution_count": 7,
   "metadata": {},
   "outputs": [
    {
     "name": "stdout",
     "output_type": "stream",
     "text": [
      "The polarity score for the song Lover by Taylor Swift is: 0.3085714285714286\n"
     ]
    }
   ],
   "source": [
    "text = (TaylorSwift)\n",
    "doc = nlp(text)\n",
    "\n",
    "print('The polarity score for the song Lover by Taylor Swift is:', doc._.blob.polarity)"
   ]
  },
  {
   "cell_type": "markdown",
   "metadata": {},
   "source": [
    "The polarity score for the song Lover by Taylor Swift lines up with my understanding of the song.  I would say it is more on the positive side but I understand why it is not closer to 1.  The song is talking about jealousy and also being in love."
   ]
  },
  {
   "cell_type": "code",
   "execution_count": 8,
   "metadata": {},
   "outputs": [
    {
     "name": "stdout",
     "output_type": "stream",
     "text": [
      "The polarity score for the song Firework by Katy Perry is: 0.23382352941176468\n"
     ]
    }
   ],
   "source": [
    "text = (KatyPerry)\n",
    "doc = nlp(text)\n",
    "\n",
    "print('The polarity score for the song Firework by Katy Perry is:', doc._.blob.polarity)"
   ]
  },
  {
   "cell_type": "markdown",
   "metadata": {},
   "source": [
    "The polarity score for the song Firework by Katy Perry was a little surprising.  I assumed it would be higher.  The overall context of the song is meant to be a motivational song, but after looking at the words in the lyrics, I can understand why it was not higher.  The words themselves could easily be perceived as negative even though the song itself was intdended to be positive."
   ]
  },
  {
   "cell_type": "code",
   "execution_count": 9,
   "metadata": {},
   "outputs": [
    {
     "name": "stdout",
     "output_type": "stream",
     "text": [
      "The polarity score for the song Everybody Hurts by Coldplay is: 0.11249999999999999\n"
     ]
    }
   ],
   "source": [
    "text = (ColdPlay)\n",
    "doc = nlp(text)\n",
    "\n",
    "print('The polarity score for the song Everybody Hurts by Coldplay is:', doc._.blob.polarity)"
   ]
  },
  {
   "cell_type": "markdown",
   "metadata": {},
   "source": [
    "The polarity score for the song Everybody Hurts by Coldplay was not a surprise.  The song, I believe, was intended to be somewhat encouraging letting people know that whatever they are going through they are not alone.  However, looking at the words, they are very sad and gloomy.  I can easily see why the polarity score is not higher."
   ]
  }
 ],
 "metadata": {
  "kernelspec": {
   "display_name": "Python 3 (ipykernel)",
   "language": "python",
   "name": "python3"
  },
  "language_info": {
   "codemirror_mode": {
    "name": "ipython",
    "version": 3
   },
   "file_extension": ".py",
   "mimetype": "text/x-python",
   "name": "python",
   "nbconvert_exporter": "python",
   "pygments_lexer": "ipython3",
   "version": "3.9.7"
  }
 },
 "nbformat": 4,
 "nbformat_minor": 4
}
